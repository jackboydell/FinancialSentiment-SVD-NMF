{
 "cells": [
  {
   "cell_type": "code",
   "execution_count": 1,
   "metadata": {},
   "outputs": [],
   "source": [
    "import pandas as pd\n",
    "import numpy as np\n",
    "import matplotlib.pyplot as plt\n",
    "import seaborn as sns\n",
    "from sklearn.model_selection import train_test_split\n",
    "from sklearn.feature_extraction.text import CountVectorizer, TfidfVectorizer\n",
    "from sklearn.decomposition import PCA, TruncatedSVD, NMF\n",
    "#from sklearn.pipeline import make_pipeline\n",
    "\n",
    "# DecisionTreeClassifiers using entropy to maximize information gain "
   ]
  },
  {
   "cell_type": "code",
   "execution_count": 19,
   "metadata": {},
   "outputs": [
    {
     "name": "stdout",
     "output_type": "stream",
     "text": [
      "<bound method DataFrame.info of                                                Sentence Sentiment\n",
      "0     The GeoSolutions technology will leverage Bene...  positive\n",
      "1     $ESI on lows, down $1.50 to $2.50 BK a real po...  negative\n",
      "2     For the last quarter of 2010 , Componenta 's n...  positive\n",
      "3     According to the Finnish-Russian Chamber of Co...   neutral\n",
      "4     The Swedish buyout firm has sold its remaining...   neutral\n",
      "...                                                 ...       ...\n",
      "5837  RISING costs have forced packaging producer Hu...  negative\n",
      "5838  Nordic Walking was first used as a summer trai...   neutral\n",
      "5839  According shipping company Viking Line , the E...   neutral\n",
      "5840  In the building and home improvement trade , s...   neutral\n",
      "5841  HELSINKI AFX - KCI Konecranes said it has won ...  positive\n",
      "\n",
      "[5842 rows x 2 columns]>\n"
     ]
    },
    {
     "data": {
      "text/html": [
       "<div>\n",
       "<style scoped>\n",
       "    .dataframe tbody tr th:only-of-type {\n",
       "        vertical-align: middle;\n",
       "    }\n",
       "\n",
       "    .dataframe tbody tr th {\n",
       "        vertical-align: top;\n",
       "    }\n",
       "\n",
       "    .dataframe thead th {\n",
       "        text-align: right;\n",
       "    }\n",
       "</style>\n",
       "<table border=\"1\" class=\"dataframe\">\n",
       "  <thead>\n",
       "    <tr style=\"text-align: right;\">\n",
       "      <th></th>\n",
       "      <th>Sentence</th>\n",
       "      <th>Sentiment</th>\n",
       "    </tr>\n",
       "  </thead>\n",
       "  <tbody>\n",
       "    <tr>\n",
       "      <td>0</td>\n",
       "      <td>The GeoSolutions technology will leverage Bene...</td>\n",
       "      <td>positive</td>\n",
       "    </tr>\n",
       "    <tr>\n",
       "      <td>1</td>\n",
       "      <td>$ESI on lows, down $1.50 to $2.50 BK a real po...</td>\n",
       "      <td>negative</td>\n",
       "    </tr>\n",
       "    <tr>\n",
       "      <td>2</td>\n",
       "      <td>For the last quarter of 2010 , Componenta 's n...</td>\n",
       "      <td>positive</td>\n",
       "    </tr>\n",
       "    <tr>\n",
       "      <td>3</td>\n",
       "      <td>According to the Finnish-Russian Chamber of Co...</td>\n",
       "      <td>neutral</td>\n",
       "    </tr>\n",
       "    <tr>\n",
       "      <td>4</td>\n",
       "      <td>The Swedish buyout firm has sold its remaining...</td>\n",
       "      <td>neutral</td>\n",
       "    </tr>\n",
       "    <tr>\n",
       "      <td>5</td>\n",
       "      <td>$SPY wouldn't be surprised to see a green close</td>\n",
       "      <td>positive</td>\n",
       "    </tr>\n",
       "    <tr>\n",
       "      <td>6</td>\n",
       "      <td>Shell's $70 Billion BG Deal Meets Shareholder ...</td>\n",
       "      <td>negative</td>\n",
       "    </tr>\n",
       "    <tr>\n",
       "      <td>7</td>\n",
       "      <td>SSH COMMUNICATIONS SECURITY CORP STOCK EXCHANG...</td>\n",
       "      <td>negative</td>\n",
       "    </tr>\n",
       "    <tr>\n",
       "      <td>8</td>\n",
       "      <td>Kone 's net sales rose by some 14 % year-on-ye...</td>\n",
       "      <td>positive</td>\n",
       "    </tr>\n",
       "    <tr>\n",
       "      <td>9</td>\n",
       "      <td>The Stockmann department store will have a tot...</td>\n",
       "      <td>neutral</td>\n",
       "    </tr>\n",
       "  </tbody>\n",
       "</table>\n",
       "</div>"
      ],
      "text/plain": [
       "                                            Sentence Sentiment\n",
       "0  The GeoSolutions technology will leverage Bene...  positive\n",
       "1  $ESI on lows, down $1.50 to $2.50 BK a real po...  negative\n",
       "2  For the last quarter of 2010 , Componenta 's n...  positive\n",
       "3  According to the Finnish-Russian Chamber of Co...   neutral\n",
       "4  The Swedish buyout firm has sold its remaining...   neutral\n",
       "5    $SPY wouldn't be surprised to see a green close  positive\n",
       "6  Shell's $70 Billion BG Deal Meets Shareholder ...  negative\n",
       "7  SSH COMMUNICATIONS SECURITY CORP STOCK EXCHANG...  negative\n",
       "8  Kone 's net sales rose by some 14 % year-on-ye...  positive\n",
       "9  The Stockmann department store will have a tot...   neutral"
      ]
     },
     "execution_count": 19,
     "metadata": {},
     "output_type": "execute_result"
    }
   ],
   "source": [
    "df = pd.read_csv('/Users/jackboydell/Desktop/MATH 280/Financial_Sentiment_NLP.csv')\n",
    "copy_df = df.copy()\n",
    "print(df.info)\n",
    "df.head(10)"
   ]
  },
  {
   "cell_type": "code",
   "execution_count": 4,
   "metadata": {},
   "outputs": [
    {
     "name": "stdout",
     "output_type": "stream",
     "text": [
      "(5842, 2)\n",
      "<class 'pandas.core.frame.DataFrame'>\n",
      "RangeIndex: 5842 entries, 0 to 5841\n",
      "Data columns (total 2 columns):\n",
      "Sentence     5842 non-null object\n",
      "Sentiment    5842 non-null object\n",
      "dtypes: object(2)\n",
      "memory usage: 91.4+ KB\n",
      "None\n"
     ]
    },
    {
     "data": {
      "text/plain": [
       "<matplotlib.axes._subplots.AxesSubplot at 0x1a2305f5d0>"
      ]
     },
     "execution_count": 4,
     "metadata": {},
     "output_type": "execute_result"
    },
    {
     "data": {
      "image/png": "[encoded data removed]",
      "text/plain": [
       "<Figure size 432x288 with 1 Axes>"
      ]
     },
     "metadata": {
      "needs_background": "light"
     },
     "output_type": "display_data"
    }
   ],
   "source": [
    "print(df.shape)\n",
    "print(df.info())\n",
    "sns.countplot(x='Sentiment', data=df)"
   ]
  },
  {
   "cell_type": "code",
   "execution_count": 5,
   "metadata": {},
   "outputs": [],
   "source": [
    "encoding_values = {'positive':1, 'neutral':0, 'negative':-1}\n",
    "df['Sentiment_encoded'] = df['Sentiment'].map(encoding_values)\n",
    "df['Sentiment_encoded'] = df['Sentiment_encoded'].astype('category')"
   ]
  },
  {
   "cell_type": "code",
   "execution_count": 6,
   "metadata": {},
   "outputs": [
    {
     "data": {
      "text/html": [
       "<div>\n",
       "<style scoped>\n",
       "    .dataframe tbody tr th:only-of-type {\n",
       "        vertical-align: middle;\n",
       "    }\n",
       "\n",
       "    .dataframe tbody tr th {\n",
       "        vertical-align: top;\n",
       "    }\n",
       "\n",
       "    .dataframe thead th {\n",
       "        text-align: right;\n",
       "    }\n",
       "</style>\n",
       "<table border=\"1\" class=\"dataframe\">\n",
       "  <thead>\n",
       "    <tr style=\"text-align: right;\">\n",
       "      <th></th>\n",
       "      <th>Sentence</th>\n",
       "      <th>Sentiment_encoded</th>\n",
       "    </tr>\n",
       "  </thead>\n",
       "  <tbody>\n",
       "    <tr>\n",
       "      <td>0</td>\n",
       "      <td>The GeoSolutions technology will leverage Bene...</td>\n",
       "      <td>1</td>\n",
       "    </tr>\n",
       "    <tr>\n",
       "      <td>1</td>\n",
       "      <td>$ESI on lows, down $1.50 to $2.50 BK a real po...</td>\n",
       "      <td>-1</td>\n",
       "    </tr>\n",
       "    <tr>\n",
       "      <td>2</td>\n",
       "      <td>For the last quarter of 2010 , Componenta 's n...</td>\n",
       "      <td>1</td>\n",
       "    </tr>\n",
       "    <tr>\n",
       "      <td>3</td>\n",
       "      <td>According to the Finnish-Russian Chamber of Co...</td>\n",
       "      <td>0</td>\n",
       "    </tr>\n",
       "    <tr>\n",
       "      <td>4</td>\n",
       "      <td>The Swedish buyout firm has sold its remaining...</td>\n",
       "      <td>0</td>\n",
       "    </tr>\n",
       "  </tbody>\n",
       "</table>\n",
       "</div>"
      ],
      "text/plain": [
       "                                            Sentence Sentiment_encoded\n",
       "0  The GeoSolutions technology will leverage Bene...                 1\n",
       "1  $ESI on lows, down $1.50 to $2.50 BK a real po...                -1\n",
       "2  For the last quarter of 2010 , Componenta 's n...                 1\n",
       "3  According to the Finnish-Russian Chamber of Co...                 0\n",
       "4  The Swedish buyout firm has sold its remaining...                 0"
      ]
     },
     "execution_count": 6,
     "metadata": {},
     "output_type": "execute_result"
    }
   ],
   "source": [
    "df = df.drop('Sentiment', axis = 1)\n",
    "df.head()"
   ]
  },
  {
   "cell_type": "code",
   "execution_count": 7,
   "metadata": {},
   "outputs": [],
   "source": [
    "# creating three separate datasets based on sentiment encoded\n",
    "positive, neutral, negative = df[df['Sentiment_encoded'] == 1], df[df['Sentiment_encoded'] == 0], df[df['Sentiment_encoded'] == -1]\n",
    "df_lists = [negative, neutral, positive]"
   ]
  },
  {
   "cell_type": "code",
   "execution_count": 16,
   "metadata": {},
   "outputs": [],
   "source": [
    "def model_pipeline(text_data):\n",
    "    '''\n",
    "    This function takes a column of text data entries and creates a Tfidf word frequency array for each.\n",
    "    TruncatedSVD is performed to find the number of components to use in NMF analysis.\n",
    "    '''\n",
    "    tfidf_vec = TfidfVectorizer(stop_words = 'english')\n",
    "    trunc_SVD = TruncatedSVD()\n",
    "    \n",
    "    X = tfidf_vec.fit_transform(text_data)\n",
    "    print(type(X))\n",
    "    tfidf_feature_names = tfidf_vec.get_feature_names()\n",
    "    \n",
    "    trunc_SVD.fit(X)\n",
    "    sing_values = trunc_SVD.singular_values_\n",
    "    \n",
    "    n_components = len(trunc_SVD.components_)\n",
    "    \n",
    "    nmf = NMF(n_components = n_components, solver = 'mu', beta_loss = 'kullback-leibler')\n",
    "    nmf.fit(X)\n",
    "    \n",
    "    return nmf, tfidf_feature_names, sing_values"
   ]
  },
  {
   "cell_type": "code",
   "execution_count": 17,
   "metadata": {},
   "outputs": [],
   "source": [
    "def plot_top_words(model, feature_names, n_words, title):\n",
    "    '''\n",
    "    model(instance of sklearn model - NMF), feature_names(list of strings), n_words(int), title(str)\n",
    "    '''\n",
    "    fig, axes = plt.subplots(1,2)\n",
    "    axes = axes.flatten()\n",
    "    fig.suptitle(title)\n",
    "    \n",
    "    for topic_index, topic in enumerate(model.components_):\n",
    "        top_features_ind = np.argsort(topic)[:-n_words-1:-1]\n",
    "        top_features = [feature_names[i] for i in top_features_ind]\n",
    "        weights = topic[top_features_ind]\n",
    "        \n",
    "        ax = axes[topic_index]\n",
    "        ax.barh(top_features, weights, height =0.7)\n",
    "        ax.invert_yaxis()\n",
    "        ax.set_title(f'Topic {topic_index + 1}')\n",
    "        ax.set_xlabel('Weights')\n",
    "    plt.subplots_adjust(wspace = 0.6) \n",
    "    plt.show()"
   ]
  },
  {
   "cell_type": "code",
   "execution_count": 18,
   "metadata": {},
   "outputs": [
    {
     "name": "stdout",
     "output_type": "stream",
     "text": [
      "<class 'scipy.sparse.csr.csr_matrix'>\n"
     ]
    },
    {
     "data": {
      "image/png": "[encoded data removed]",
      "text/plain": [
       "<Figure size 432x288 with 2 Axes>"
      ]
     },
     "metadata": {
      "needs_background": "light"
     },
     "output_type": "display_data"
    },
    {
     "name": "stdout",
     "output_type": "stream",
     "text": [
      "<class 'scipy.sparse.csr.csr_matrix'>\n"
     ]
    },
    {
     "data": {
      "image/png": "[encoded data removed]",
      "text/plain": [
       "<Figure size 432x288 with 2 Axes>"
      ]
     },
     "metadata": {
      "needs_background": "light"
     },
     "output_type": "display_data"
    },
    {
     "name": "stdout",
     "output_type": "stream",
     "text": [
      "<class 'scipy.sparse.csr.csr_matrix'>\n"
     ]
    },
    {
     "data": {
      "image/png": "[encoded data removed]",
      "text/plain": [
       "<Figure size 432x288 with 2 Axes>"
      ]
     },
     "metadata": {
      "needs_background": "light"
     },
     "output_type": "display_data"
    }
   ],
   "source": [
    "# graphing of the two topics for each of the sentiment subsets\n",
    "for index, dataframe in enumerate(df_lists):\n",
    "    title_name = index - 1\n",
    "    model, tfidf_feature_names, sing_values = model_pipeline(dataframe['Sentence'])\n",
    "    plot_top_words(model, tfidf_feature_names, 10, f'Topics in NMF Model (Kullback-Leibler) - Sentiment:{title_name}')"
   ]
  },
  {
   "cell_type": "code",
   "execution_count": null,
   "metadata": {},
   "outputs": [],
   "source": []
  }
 ],
 "metadata": {
  "kernelspec": {
   "display_name": "Python 3",
   "language": "python",
   "name": "python3"
  },
  "language_info": {
   "codemirror_mode": {
    "name": "ipython",
    "version": 3
   },
   "file_extension": ".py",
   "mimetype": "text/x-python",
   "name": "python",
   "nbconvert_exporter": "python",
   "pygments_lexer": "ipython3",
   "version": "3.7.4"
  }
 },
 "nbformat": 4,
 "nbformat_minor": 2
}
